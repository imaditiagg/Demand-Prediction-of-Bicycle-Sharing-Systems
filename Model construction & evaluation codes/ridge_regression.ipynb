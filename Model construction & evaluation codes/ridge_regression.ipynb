{
 "cells": [
  {
   "cell_type": "code",
   "execution_count": 24,
   "metadata": {},
   "outputs": [
    {
     "name": "stdout",
     "output_type": "stream",
     "text": [
      "<class 'pandas.core.frame.DataFrame'>\n",
      "RangeIndex: 731 entries, 0 to 730\n",
      "Data columns (total 20 columns):\n",
      "instant        731 non-null int64\n",
      "dteday         731 non-null object\n",
      "season         731 non-null int64\n",
      "yr             731 non-null int64\n",
      "mnth           731 non-null int64\n",
      "holiday        731 non-null int64\n",
      "weekday        731 non-null int64\n",
      "workingday     731 non-null int64\n",
      "weathersit     731 non-null int64\n",
      "temp           731 non-null float64\n",
      "atemp          731 non-null float64\n",
      "hum            731 non-null float64\n",
      "windspeed      731 non-null float64\n",
      "d_temp         731 non-null float64\n",
      "d_atemp        731 non-null float64\n",
      "d_hum          731 non-null float64\n",
      "d_windspeed    731 non-null float64\n",
      "casual         731 non-null int64\n",
      "registered     731 non-null int64\n",
      "cnt            731 non-null int64\n",
      "dtypes: float64(8), int64(11), object(1)\n",
      "memory usage: 114.3+ KB\n"
     ]
    },
    {
     "data": {
      "text/html": [
       "<div>\n",
       "<style scoped>\n",
       "    .dataframe tbody tr th:only-of-type {\n",
       "        vertical-align: middle;\n",
       "    }\n",
       "\n",
       "    .dataframe tbody tr th {\n",
       "        vertical-align: top;\n",
       "    }\n",
       "\n",
       "    .dataframe thead th {\n",
       "        text-align: right;\n",
       "    }\n",
       "</style>\n",
       "<table border=\"1\" class=\"dataframe\">\n",
       "  <thead>\n",
       "    <tr style=\"text-align: right;\">\n",
       "      <th></th>\n",
       "      <th>season</th>\n",
       "      <th>yr</th>\n",
       "      <th>mnth</th>\n",
       "      <th>workingday</th>\n",
       "      <th>weathersit</th>\n",
       "      <th>d_atemp</th>\n",
       "      <th>d_hum</th>\n",
       "      <th>d_windspeed</th>\n",
       "      <th>cnt</th>\n",
       "    </tr>\n",
       "  </thead>\n",
       "  <tbody>\n",
       "    <tr>\n",
       "      <th>0</th>\n",
       "      <td>1</td>\n",
       "      <td>0</td>\n",
       "      <td>1</td>\n",
       "      <td>0</td>\n",
       "      <td>2</td>\n",
       "      <td>7.999250</td>\n",
       "      <td>80.5833</td>\n",
       "      <td>10.749882</td>\n",
       "      <td>985</td>\n",
       "    </tr>\n",
       "    <tr>\n",
       "      <th>1</th>\n",
       "      <td>1</td>\n",
       "      <td>0</td>\n",
       "      <td>1</td>\n",
       "      <td>0</td>\n",
       "      <td>2</td>\n",
       "      <td>7.346774</td>\n",
       "      <td>69.6087</td>\n",
       "      <td>16.652113</td>\n",
       "      <td>801</td>\n",
       "    </tr>\n",
       "    <tr>\n",
       "      <th>2</th>\n",
       "      <td>1</td>\n",
       "      <td>0</td>\n",
       "      <td>1</td>\n",
       "      <td>1</td>\n",
       "      <td>1</td>\n",
       "      <td>-3.499270</td>\n",
       "      <td>43.7273</td>\n",
       "      <td>16.636703</td>\n",
       "      <td>1349</td>\n",
       "    </tr>\n",
       "    <tr>\n",
       "      <th>3</th>\n",
       "      <td>1</td>\n",
       "      <td>0</td>\n",
       "      <td>1</td>\n",
       "      <td>1</td>\n",
       "      <td>1</td>\n",
       "      <td>-1.999948</td>\n",
       "      <td>59.0435</td>\n",
       "      <td>10.739832</td>\n",
       "      <td>1562</td>\n",
       "    </tr>\n",
       "    <tr>\n",
       "      <th>4</th>\n",
       "      <td>1</td>\n",
       "      <td>0</td>\n",
       "      <td>1</td>\n",
       "      <td>1</td>\n",
       "      <td>1</td>\n",
       "      <td>-0.868180</td>\n",
       "      <td>43.6957</td>\n",
       "      <td>12.522300</td>\n",
       "      <td>1600</td>\n",
       "    </tr>\n",
       "  </tbody>\n",
       "</table>\n",
       "</div>"
      ],
      "text/plain": [
       "   season  yr  mnth  workingday  weathersit   d_atemp    d_hum  d_windspeed  \\\n",
       "0       1   0     1           0           2  7.999250  80.5833    10.749882   \n",
       "1       1   0     1           0           2  7.346774  69.6087    16.652113   \n",
       "2       1   0     1           1           1 -3.499270  43.7273    16.636703   \n",
       "3       1   0     1           1           1 -1.999948  59.0435    10.739832   \n",
       "4       1   0     1           1           1 -0.868180  43.6957    12.522300   \n",
       "\n",
       "    cnt  \n",
       "0   985  \n",
       "1   801  \n",
       "2  1349  \n",
       "3  1562  \n",
       "4  1600  "
      ]
     },
     "execution_count": 24,
     "metadata": {},
     "output_type": "execute_result"
    }
   ],
   "source": [
    "#imports\n",
    "import numpy as np\n",
    "import pandas as pd\n",
    "import math\n",
    "\n",
    "from sklearn.model_selection import train_test_split\n",
    "\n",
    "from sklearn.linear_model import Ridge\n",
    "\n",
    "from sklearn.metrics import mean_squared_error\n",
    "\n",
    "from sklearn.preprocessing import PolynomialFeatures\n",
    "from sklearn.pipeline import Pipeline\n",
    "from sklearn.preprocessing import StandardScaler\n",
    "\n",
    "import matplotlib.pyplot as plt\n",
    "import seaborn as sns\n",
    "\n",
    "sns.set()\n",
    "%matplotlib inline\n",
    "\n",
    "#import training dataset\n",
    "df = pd.read_csv(r\"C:\\Users\\owaiskhan\\Desktop\\python\\day.csv\")\n",
    "\n",
    "#see the columns in our data\n",
    "df.info()\n",
    "df = df[['season','yr','mnth','workingday','weathersit','d_atemp','d_hum','d_windspeed','cnt']]\n",
    "# take a look at the head of the dataset\n",
    "df.head()"
   ]
  },
  {
   "cell_type": "code",
   "execution_count": 47,
   "metadata": {},
   "outputs": [
    {
     "name": "stderr",
     "output_type": "stream",
     "text": [
      "C:\\Users\\owaiskhan\\Anaconda3\\lib\\site-packages\\sklearn\\utils\\validation.py:595: DataConversionWarning: Data with input dtype int64 was converted to float64 by MinMaxScaler.\n",
      "  warnings.warn(msg, DataConversionWarning)\n"
     ]
    },
    {
     "data": {
      "image/png": "[encoded data removed]",
      "text/plain": [
       "<Figure size 432x288 with 1 Axes>"
      ]
     },
     "metadata": {
      "needs_background": "light"
     },
     "output_type": "display_data"
    }
   ],
   "source": [
    "x = df.iloc[:, 0:8].values  \n",
    "y = df.iloc[:, 8].values \n",
    "\n",
    "from sklearn.preprocessing import  MinMaxScaler\n",
    "sc= MinMaxScaler()\n",
    "x= sc.fit_transform(x)\n",
    "y= y.reshape(-1,1)\n",
    "y=sc.fit_transform(y)\n",
    "\n",
    "x_train, x_test, y_train, y_test = train_test_split(x, y, test_size=0.2, random_state=0)  \n",
    "\n",
    "ridgeReg = Ridge(alpha=.02, normalize=True)\n",
    "\n",
    "ridgeReg.fit(x_train,y_train)\n",
    "\n",
    "pred = ridgeReg.predict(x_test)\n",
    "\n",
    "import numpy\n",
    "import matplotlib.pyplot as plt\n",
    "n_alpha = []\n",
    "scores = []\n",
    "from sklearn.metrics import r2_score\n",
    "\n",
    "for i in numpy.arange(.02, 5, 1) :\n",
    "    ridgeReg = Ridge(alpha=i, normalize=True)\n",
    "    ridgeReg.fit(x_train,y_train)\n",
    "    pred = ridgeReg.predict(x_test)\n",
    "    n_alpha.append(i)\n",
    "    scores.append(r2_score(y_test , pred))\n",
    "\n",
    "\n",
    "\n",
    "\n",
    "plt.title(\"Effect of alpha\")\n",
    "plt.xlabel(\"alpha\")\n",
    "plt.ylabel(\"r2_score\")\n",
    "plt.plot(n_alpha, scores)\n",
    "plt.show()\n"
   ]
  },
  {
   "cell_type": "code",
   "execution_count": 48,
   "metadata": {},
   "outputs": [
    {
     "data": {
      "image/png": "[encoded data removed]",
      "text/plain": [
       "<Figure size 432x288 with 1 Axes>"
      ]
     },
     "metadata": {
      "needs_background": "light"
     },
     "output_type": "display_data"
    }
   ],
   "source": [
    "import matplotlib.pyplot as plt\n",
    "test_split_size = [0.1,0.2,0.3,0.4,0.5]\n",
    "scores = []\n",
    "from sklearn.metrics import r2_score\n",
    "\n",
    "\n",
    "for i in test_split_size :\n",
    "    x_train, x_test, y_train, y_test = train_test_split(x, y, test_size=i, random_state=0)  \n",
    "    ridgeReg = Ridge(alpha=.2, normalize=True)\n",
    "    ridgeReg.fit(x_train,y_train)\n",
    "    pred = ridgeReg.predict(x_test)\n",
    "    scores.append(r2_score(y_test , pred))\n",
    "\n",
    "\n",
    "        \n",
    "        \n",
    "       \n",
    "plt.title(\"Effect of test_size\")\n",
    "plt.xlabel(\"test_size\")\n",
    "plt.ylabel(\"r2_score\")\n",
    "plt.plot(test_split_size, scores)\n",
    "#print(estimators)\n",
    "plt.savefig('gradientBoosterscore2.png')\n",
    "plt.show()\n",
    "#print(max(scores))"
   ]
  },
  {
   "cell_type": "code",
   "execution_count": 36,
   "metadata": {},
   "outputs": [
    {
     "data": {
      "image/png": "[encoded data removed]",
      "text/plain": [
       "<Figure size 432x288 with 1 Axes>"
      ]
     },
     "metadata": {
      "needs_background": "light"
     },
     "output_type": "display_data"
    }
   ],
   "source": [
    "import matplotlib.pyplot as plt\n",
    "fig, ax = plt.subplots()\n",
    "ax.scatter(y_test, pred)\n",
    "ax.plot([y_test.min(), y_test.max()], [y_test.min(), y_test.max()], 'k--', lw=4)\n",
    "ax.set_xlabel('Measured')\n",
    "ax.set_ylabel('Predicted')\n",
    "plt.show()"
   ]
  },
  {
   "cell_type": "code",
   "execution_count": 37,
   "metadata": {},
   "outputs": [
    {
     "name": "stdout",
     "output_type": "stream",
     "text": [
      "Mean Absolute Error: 0.08054841519333175\n",
      "Mean Squared Error: 0.011448163952249013\n",
      "Root Mean Squared Error: 0.10699609316348431\n"
     ]
    }
   ],
   "source": [
    "from sklearn import metrics\n",
    "\n",
    "print('Mean Absolute Error:', metrics.mean_absolute_error(y_test, pred))  \n",
    "print('Mean Squared Error:', metrics.mean_squared_error(y_test, pred))  \n",
    "print('Root Mean Squared Error:', np.sqrt(metrics.mean_squared_error(y_test, pred)))"
   ]
  },
  {
   "cell_type": "code",
   "execution_count": 38,
   "metadata": {},
   "outputs": [
    {
     "data": {
      "text/plain": [
       "0.011448163952249013"
      ]
     },
     "execution_count": 38,
     "metadata": {},
     "output_type": "execute_result"
    }
   ],
   "source": [
    "from sklearn.metrics import mean_squared_error\n",
    "mse_test = mean_squared_error(y_test, pred)\n",
    "mse_test"
   ]
  },
  {
   "cell_type": "code",
   "execution_count": 39,
   "metadata": {},
   "outputs": [
    {
     "data": {
      "text/plain": [
       "0.7966401051290788"
      ]
     },
     "execution_count": 39,
     "metadata": {},
     "output_type": "execute_result"
    }
   ],
   "source": [
    "from sklearn.metrics import r2_score\n",
    "r2_score(y_test , pred)"
   ]
  }
 ],
 "metadata": {
  "kernelspec": {
   "display_name": "Python 3",
   "language": "python",
   "name": "python3"
  },
  "language_info": {
   "codemirror_mode": {
    "name": "ipython",
    "version": 3
   },
   "file_extension": ".py",
   "mimetype": "text/x-python",
   "name": "python",
   "nbconvert_exporter": "python",
   "pygments_lexer": "ipython3",
   "version": "3.6.4"
  }
 },
 "nbformat": 4,
 "nbformat_minor": 2
}
