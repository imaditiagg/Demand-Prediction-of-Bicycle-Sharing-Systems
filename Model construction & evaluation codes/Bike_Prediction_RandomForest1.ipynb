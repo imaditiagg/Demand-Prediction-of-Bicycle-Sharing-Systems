{
 "cells": [
  {
   "cell_type": "code",
   "execution_count": 1,
   "metadata": {},
   "outputs": [],
   "source": [
    "#Random forest for different test_split configurations\n",
    "\n",
    "import pandas as pd  \n",
    "import numpy as np \n",
    "data = pd.read_csv(r\"C:\\Users\\ADITI\\Desktop\\Bike sharing\\Bike-Sharing-Dataset\\day2.csv\")\n",
    "\n",
    "\n"
   ]
  },
  {
   "cell_type": "code",
   "execution_count": 2,
   "metadata": {},
   "outputs": [
    {
     "name": "stderr",
     "output_type": "stream",
     "text": [
      "c:\\users\\aditi\\appdata\\local\\programs\\python\\python36-32\\lib\\site-packages\\sklearn\\utils\\validation.py:595: DataConversionWarning: Data with input dtype int64 was converted to float64 by MinMaxScaler.\n",
      "  warnings.warn(msg, DataConversionWarning)\n"
     ]
    }
   ],
   "source": [
    "#extract required predictor variables(attributes)\n",
    "\n",
    "dataset = data[['season','yr','mnth','holiday','weekday','weathersit','d_atemp','d_hum','d_windspeed','cnt']]\n",
    "\n",
    "x = dataset.iloc[:, 0:9].values  \n",
    "y = dataset.iloc[:, 9].values \n",
    "\n",
    "#Apply normalization\n",
    "from sklearn.preprocessing import  MinMaxScaler\n",
    "sc= MinMaxScaler()\n",
    "x= sc.fit_transform(x)\n",
    "y= y.reshape(-1,1)\n",
    "y=sc.fit_transform(y)\n"
   ]
  },
  {
   "cell_type": "code",
   "execution_count": 3,
   "metadata": {},
   "outputs": [],
   "source": [
    "from sklearn.model_selection import train_test_split\n",
    "\n"
   ]
  },
  {
   "cell_type": "code",
   "execution_count": 5,
   "metadata": {},
   "outputs": [
    {
     "name": "stderr",
     "output_type": "stream",
     "text": [
      "c:\\users\\aditi\\appdata\\local\\programs\\python\\python36-32\\lib\\site-packages\\ipykernel_launcher.py:12: DataConversionWarning: A column-vector y was passed when a 1d array was expected. Please change the shape of y to (n_samples,), for example using ravel().\n",
      "  if sys.path[0] == '':\n",
      "c:\\users\\aditi\\appdata\\local\\programs\\python\\python36-32\\lib\\site-packages\\ipykernel_launcher.py:12: DataConversionWarning: A column-vector y was passed when a 1d array was expected. Please change the shape of y to (n_samples,), for example using ravel().\n",
      "  if sys.path[0] == '':\n",
      "c:\\users\\aditi\\appdata\\local\\programs\\python\\python36-32\\lib\\site-packages\\ipykernel_launcher.py:12: DataConversionWarning: A column-vector y was passed when a 1d array was expected. Please change the shape of y to (n_samples,), for example using ravel().\n",
      "  if sys.path[0] == '':\n",
      "c:\\users\\aditi\\appdata\\local\\programs\\python\\python36-32\\lib\\site-packages\\ipykernel_launcher.py:12: DataConversionWarning: A column-vector y was passed when a 1d array was expected. Please change the shape of y to (n_samples,), for example using ravel().\n",
      "  if sys.path[0] == '':\n",
      "c:\\users\\aditi\\appdata\\local\\programs\\python\\python36-32\\lib\\site-packages\\ipykernel_launcher.py:12: DataConversionWarning: A column-vector y was passed when a 1d array was expected. Please change the shape of y to (n_samples,), for example using ravel().\n",
      "  if sys.path[0] == '':\n"
     ]
    },
    {
     "data": {
      "image/png": "[encoded data removed]",
      "text/plain": [
       "<Figure size 432x288 with 1 Axes>"
      ]
     },
     "metadata": {
      "needs_background": "light"
     },
     "output_type": "display_data"
    }
   ],
   "source": [
    "from sklearn.ensemble import RandomForestRegressor\n",
    "\n",
    "import matplotlib.pyplot as plt\n",
    "test_split_size = [0.1,0.2,0.3,0.4,0.5] #different test_split_size\n",
    "scores = []\n",
    "from sklearn.metrics import r2_score\n",
    "\n",
    "\n",
    "for i in test_split_size :\n",
    "       X_train, X_test, y_train, y_test = train_test_split(x, y, test_size=i, random_state=0)  \n",
    "       regressor = RandomForestRegressor(n_estimators=110, random_state=42)  \n",
    "       regressor.fit(X_train, y_train)  \n",
    "       y_pred = regressor.predict(X_test) \n",
    "       scores.append(r2_score(y_test , y_pred))\n",
    "       \n",
    "plt.title(\"Effect of test_size\")\n",
    "plt.xlabel(\"test_size\")\n",
    "plt.ylabel(\"r2_score\")\n",
    "plt.plot(test_split_size, scores)\n",
    "#print(estimators)\n",
    "#plt.savefig('randomforestscore2.png')\n",
    "plt.show()\n",
    "#print(max(scores))\n"
   ]
  }
 ],
 "metadata": {
  "kernelspec": {
   "display_name": "Python 3",
   "language": "python",
   "name": "python3"
  },
  "language_info": {
   "codemirror_mode": {
    "name": "ipython",
    "version": 3
   },
   "file_extension": ".py",
   "mimetype": "text/x-python",
   "name": "python",
   "nbconvert_exporter": "python",
   "pygments_lexer": "ipython3",
   "version": "3.6.4"
  }
 },
 "nbformat": 4,
 "nbformat_minor": 2
}
